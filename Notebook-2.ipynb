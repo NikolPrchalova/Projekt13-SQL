{
    "metadata": {
        "kernelspec": {
            "name": "SQL",
            "display_name": "SQL",
            "language": "sql"
        },
        "language_info": {
            "name": "sql",
            "version": ""
        }
    },
    "nbformat_minor": 2,
    "nbformat": 4,
    "cells": [
        {
            "cell_type": "markdown",
            "source": [
                "_<span style=\"color: var(--vscode-foreground);\">CREATE - Dotazy, které něco stvořily</span>  \n",
                "<span style=\"color: var(--vscode-foreground);\">INFO - Dotazy, kterými jsme jen něco zjišťovaly</span>_"
            ],
            "metadata": {
                "azdata_cell_guid": "c47b4f6c-e156-4cce-817c-35992ee0a85f"
            },
            "attachments": {}
        },
        {
            "cell_type": "markdown",
            "source": [
                "### <u>Záloha tabulky</u>"
            ],
            "metadata": {
                "language": "sql",
                "azdata_cell_guid": "30dba3bd-e2dd-4fe0-b821-3dd6821883c5"
            },
            "attachments": {}
        },
        {
            "cell_type": "code",
            "source": [
                "-- Kopie tabulky (záloha)                                                                                                       CREATE\r\n",
                "SELECT *\r\n",
                "INTO Catastrophes_backup\r\n",
                "FROM [dbo].[Catastrophes new];"
            ],
            "metadata": {
                "azdata_cell_guid": "f7f96b78-c472-4e90-8458-bd90cd2b9a55",
                "language": "sql",
                "tags": []
            },
            "outputs": [],
            "execution_count": null
        },
        {
            "cell_type": "markdown",
            "source": [
                "### <u>Ověření, zda může být identifikátor použe číselná část z DisNo - NEMŮŽE</u>"
            ],
            "metadata": {
                "azdata_cell_guid": "d159d6e4-0518-43e1-898b-d6fdbb904e67"
            },
            "attachments": {}
        },
        {
            "cell_type": "code",
            "source": [
                "-- Chceme vySELECTovat ze sloupce DisNo pouze číselnou část: 1967-0026                                                          INFO\r\n",
                "SELECT count(distinct((LEFT(DisNo, 9)))) AS PK_count_distinct \r\n",
                "FROM [dbo].[Catastrophes new];\r\n",
                "\r\n",
                "SELECT count(LEFT(DisNo, 9)) AS PK_count\r\n",
                "FROM [dbo].[Catastrophes new];\r\n",
                "-- -> nemůžeme vzít pouze číselnou část sloupce jako PK, protože není unikátní \r\n",
                "-- (při použítí count a count(distinct) se nerovnají výsledky 24294 != 26188)"
            ],
            "metadata": {
                "azdata_cell_guid": "c5db28c1-667a-4bd1-bc25-6db019186c7f",
                "language": "sql",
                "tags": []
            },
            "outputs": [],
            "execution_count": null
        },
        {
            "cell_type": "markdown",
            "source": [
                "### <u>Nová tabulka Location\\_table.</u>"
            ],
            "metadata": {
                "azdata_cell_guid": "9bbba08d-ad26-4f45-ac21-9068d00b3991"
            },
            "attachments": {}
        },
        {
            "cell_type": "code",
            "source": [
                "-- Jsou nějaké country, co mají více členů?                                                                                      INFO\r\n",
                "-- -> ANO, DVĚ - DO TABULKY LOKACÍ DÁT I COUNTRY [POPŘ. REGION, SUBREGION (ale ty sou konzistentní - není tam více záznamů oddělených čárkou)]\r\n",
                "SELECT DISTINCT(country)\r\n",
                "FROM [dbo].[Catastrophes new]\r\n",
                "WHERE Country LIKE '%,%';"
            ],
            "metadata": {
                "azdata_cell_guid": "7176e65a-7b89-40ae-b64f-d1f8676f6c01",
                "language": "sql",
                "tags": []
            },
            "outputs": [],
            "execution_count": null
        },
        {
            "cell_type": "code",
            "source": [
                "-- Vytvoření Nové tabulky s lokacemi Location:                                                                            CREATE\r\n",
                "CREATE TABLE Location (\r\n",
                "    DisNo NVARCHAR(100),\r\n",
                "    Location NVARCHAR(MAX),\r\n",
                "    Dirty_location_separator bit,\r\n",
                "    FOREIGN KEY (DisNo) REFERENCES [dbo].[Catastrophes new] (DisNo)\r\n",
                ");"
            ],
            "metadata": {
                "language": "sql",
                "azdata_cell_guid": "f7df8660-9b8b-4888-a51a-3015bcbbde07",
                "tags": []
            },
            "outputs": [
                {
                    "output_type": "display_data",
                    "data": {
                        "text/html": "Commands completed successfully."
                    },
                    "metadata": {}
                },
                {
                    "output_type": "display_data",
                    "data": {
                        "text/html": "Total execution time: 00:00:00.052"
                    },
                    "metadata": {}
                }
            ],
            "execution_count": 11
        },
        {
            "cell_type": "code",
            "source": [
                "-- Vložení DisNo a Location do nové tabulky \"Location\" a rozdělení podle \",\" do nových řádků                                CREATE\r\n",
                "--BEGIN TRANSACTION;\r\n",
                "INSERT INTO Location (DisNo, Location) \r\n",
                "SELECT DisNo, value AS Location\r\n",
                "FROM [Catastrophes new]\r\n",
                "CROSS APPLY STRING_SPLIT(Location, ',')\r\n",
                "WHERE Location NOT LIKE N'%;%'\r\n",
                "--COMMIT;"
            ],
            "metadata": {
                "azdata_cell_guid": "677279ef-a884-4ef2-9c14-2e255349ba20",
                "language": "sql",
                "tags": []
            },
            "outputs": [
                {
                    "output_type": "display_data",
                    "data": {
                        "text/html": "(70415 rows affected)"
                    },
                    "metadata": {}
                },
                {
                    "output_type": "display_data",
                    "data": {
                        "text/html": "Total execution time: 00:00:10.397"
                    },
                    "metadata": {}
                }
            ],
            "execution_count": 3
        },
        {
            "cell_type": "code",
            "source": [
                "-- Vložení a rozdělení řádků podle \";\". Tam, kde je ; přidání 1 do sloupce Dirty_location_separator.                          CREATE\r\n",
                "INSERT INTO Location (DisNo, Location, Dirty_location_separator)\r\n",
                "SELECT DisNo, value AS Location, 1 AS Dirty_location_separator\r\n",
                "FROM [Catastrophes new]\r\n",
                "CROSS APPLY STRING_SPLIT(Location, ';')\r\n",
                "WHERE Location LIKE N'%;%';"
            ],
            "metadata": {
                "language": "sql",
                "azdata_cell_guid": "b22a0e6f-f1b9-4089-bfa3-daeb0d25fc40",
                "tags": []
            },
            "outputs": [
                {
                    "output_type": "display_data",
                    "data": {
                        "text/html": "(1711 rows affected)"
                    },
                    "metadata": {}
                },
                {
                    "output_type": "display_data",
                    "data": {
                        "text/html": "Total execution time: 00:00:00.978"
                    },
                    "metadata": {}
                }
            ],
            "execution_count": 5
        },
        {
            "cell_type": "code",
            "source": [
                "-- Odstranění bílých znaků z tabulky \"Location\".                                                                 CREATE\r\n",
                "UPDATE Location\r\n",
                "SET Location = LTRIM(RTRIM(Location));"
            ],
            "metadata": {
                "language": "sql",
                "azdata_cell_guid": "2dacf4cb-dde4-407c-b805-16397ffbcfef",
                "tags": []
            },
            "outputs": [
                {
                    "output_type": "display_data",
                    "data": {
                        "text/html": "(72126 rows affected)"
                    },
                    "metadata": {}
                },
                {
                    "output_type": "display_data",
                    "data": {
                        "text/html": "Total execution time: 00:00:10.268"
                    },
                    "metadata": {}
                }
            ],
            "execution_count": 9
        },
        {
            "cell_type": "code",
            "source": [
                "--1337 řádků, které obsahují N'% and %' - rozhodli jsme se, že zanedbáme.                                           INFO!\r\n",
                "SELECT *\r\n",
                "FROM Location\r\n",
                "WHERE Location LIKE N'% and %' "
            ],
            "metadata": {
                "language": "sql",
                "azdata_cell_guid": "b87303e8-5f80-4092-ab59-28b8a2124f62",
                "tags": []
            },
            "outputs": [],
            "execution_count": null
        },
        {
            "cell_type": "code",
            "source": [
                "-- Smazání sloupce Location z Catastrophes new.                                                                     CREATE\r\n",
                "ALTER TABLE \"Catastrophes new\" DROP COLUMN \"Location\";\r\n",
                ""
            ],
            "metadata": {
                "language": "sql",
                "azdata_cell_guid": "509720e6-3766-4896-949c-79f4ab13ff24",
                "tags": []
            },
            "outputs": [
                {
                    "output_type": "display_data",
                    "data": {
                        "text/html": "Commands completed successfully."
                    },
                    "metadata": {}
                },
                {
                    "output_type": "display_data",
                    "data": {
                        "text/html": "Total execution time: 00:00:00.075"
                    },
                    "metadata": {}
                }
            ],
            "execution_count": 15
        },
        {
            "cell_type": "markdown",
            "source": [
                "### Kontrola"
            ],
            "metadata": {
                "azdata_cell_guid": "38bf75c9-3bd8-49d0-b73f-2f79a37c568c"
            },
            "attachments": {}
        },
        {
            "cell_type": "code",
            "source": [
                "-- Snaha zjistit k jakému roku je sloupec \"Total Damage, Adjusted\" (navýšený o inflaci) vztažený.                        INFO\r\n",
                "--> v letech 2022 se podíl rovná 1 tzn., že inflace je vztážená k roku generování datasetu.\r\n",
                "SELECT Country, Start_Year, (Total_Damage_000_US / NULLIF(Total_Damage_Adjusted_000_US, 0)) as neco\r\n",
                "FROM [dbo].[Catastrophes new]\r\n",
                "WHERE (Total_Damage_000_US / NULLIF(Total_Damage_Adjusted_000_US, 0)) is not null \r\n",
                "ORDER BY Country, Start_Year;\r\n",
                "\r\n",
                "\r\n",
                "SELECT Country, Start_Year, (Total_Damage_000_US / NULLIF(Total_Damage_Adjusted_000_US, 0)) as neco\r\n",
                "FROM [dbo].[Catastrophes new]\r\n",
                "WHERE (Total_Damage_000_US / NULLIF(Total_Damage_Adjusted_000_US, 0)) is not null and Start_Year = '2022'\r\n",
                "ORDER BY Country, Start_Year;\r\n",
                ""
            ],
            "metadata": {
                "azdata_cell_guid": "d9df1d1f-bb02-4d5c-b4fa-5aaa3ec868e1",
                "language": "sql"
            },
            "outputs": [],
            "execution_count": null
        },
        {
            "cell_type": "code",
            "source": [
                "-- Kontrola totožného počtu řádku se zdrojovým souborem (v csv 26188). - SEDÍ                                                 INFO\r\n",
                "SELECT count(*) as Pocet_radku\r\n",
                "FROM [dbo].[Catastrophes new];\r\n",
                ""
            ],
            "metadata": {
                "language": "sql",
                "azdata_cell_guid": "a3e51418-cebc-41ea-a0c6-8696db871f49"
            },
            "outputs": [],
            "execution_count": 1
        },
        {
            "cell_type": "code",
            "source": [
                "-- Snaha o porovnání konzistence záznamů v ISO a Country (že není v Country jednou United States of America a                  INFO\r\n",
                "-- jednou třeba United States, porovnání počtu ISO a názvu v Country?)\r\n",
                "-- pouze USA: 1498\r\n",
                "SELECT count(*)\r\n",
                "FROM [dbo].[Catastrophes new]\r\n",
                "WHERE ISO = 'USA'\r\n",
                "-- pouze USA: 1498 - SEDÍ\r\n",
                "SELECT count(*)\r\n",
                "FROM [dbo].[Catastrophes new]\r\n",
                "WHERE Country = 'United States of America';"
            ],
            "metadata": {
                "azdata_cell_guid": "9f492804-cfa1-4815-942d-52aa3a1e0f4b",
                "language": "sql"
            },
            "outputs": [],
            "execution_count": null
        },
        {
            "cell_type": "code",
            "source": [
                "-- Konrola konzistence sloupců ISO a Country. - SEDÍ                                                                             INFO\r\n",
                "SELECT DISTINCT ISO, Country\r\n",
                "FROM [dbo].[Catastrophes new]\r\n",
                "ORDER BY ISO, Country ASC;"
            ],
            "metadata": {
                "language": "sql",
                "azdata_cell_guid": "a878b816-f641-4e30-864a-5cf369abdbb2"
            },
            "outputs": [],
            "execution_count": null
        },
        {
            "cell_type": "code",
            "source": [
                "-- TOP 10 zemí podle počtu katastrof.                                                                                           INFO\r\n",
                "SELECT TOP 10 Country, COUNT([Disaster_Type]) AS CountType\r\n",
                "FROM [dbo].[Catastrophes new]\r\n",
                "GROUP BY Country\r\n",
                "ORDER BY CountType DESC;"
            ],
            "metadata": {
                "azdata_cell_guid": "8b5df560-6536-4e58-b00a-e31a06a342b0",
                "language": "sql",
                "tags": []
            },
            "outputs": [],
            "execution_count": null
        },
        {
            "cell_type": "code",
            "source": [
                "-- TOP 10 zemí podle počtu zemřelých.   \n",
                "                                                                                          INFO\n",
                "SELECT TOP 10 Country, SUM([Total_Deaths]) AS TotalDeaths\n",
                "FROM [dbo].[Catastrophes new]\n",
                "GROUP BY Country\n",
                "ORDER BY TotalDeaths DESC;\n",
                "\n",
                ""
            ],
            "metadata": {
                "azdata_cell_guid": "4de69845-c80b-4afc-8ea2-fdeeb5eb06d8",
                "language": "sql",
                "tags": []
            },
            "outputs": [],
            "execution_count": null
        },
        {
            "cell_type": "code",
            "source": [
                "-- TOP 10 zemí podle škod.                                                                                                          INFO\r\n",
                "SELECT TOP 10 Country, SUM([Total_Damage_Adjusted_000_US]) AS SumTotalDamage\r\n",
                "FROM [dbo].[Catastrophes new]\r\n",
                "GROUP BY Country\r\n",
                "ORDER BY SumTotalDamage DESC;"
            ],
            "metadata": {
                "azdata_cell_guid": "9a2a7ac3-0513-4293-ac46-44d7f1926f6c",
                "language": "sql"
            },
            "outputs": [],
            "execution_count": null
        }
    ]
}