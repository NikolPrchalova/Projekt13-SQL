{
    "metadata": {
        "kernelspec": {
            "name": "SQL",
            "display_name": "SQL",
            "language": "sql"
        },
        "language_info": {
            "name": "sql",
            "version": ""
        }
    },
    "nbformat_minor": 2,
    "nbformat": 4,
    "cells": [
        {
            "cell_type": "markdown",
            "source": [
                "### Dimenzní tabulka Country\\_Date (ID, ISO, Country, Year)"
            ],
            "metadata": {
                "azdata_cell_guid": "e84148ad-5fe2-40ab-b00f-19a337141754"
            },
            "attachments": {}
        },
        {
            "cell_type": "code",
            "source": [
                "-- Vytvoření tabulky se sloupci ID, ISO, Country, Year z tabulky Catastrophes new, protože budeme potřebovat jen záznamy       CREATE\r\n",
                "-- uvedené v catastrophes a distinct ID, aby to byla dimenzní tabulka napojená na ostatní \r\n",
                "-- (vytvořeno kvůli problémům v Power BI)\r\n",
                "SELECT\r\n",
                "    COALESCE(c.ID, d.ID, g.ID) AS ID,\r\n",
                "    COALESCE(c.[ISO], d.[ISO], g.[Country_code]) AS ISO,\r\n",
                "    COALESCE(c.Country, g.Country_Name) AS Country,\r\n",
                "    COALESCE(c.Start_Year, d.[Year], g.[Year]) AS Year\r\n",
                "INTO Country_Date\r\n",
                "FROM (\r\n",
                "    SELECT DISTINCT ID FROM [Catastrophes new]\r\n",
                "    UNION\r\n",
                "    SELECT DISTINCT ID FROM [Direct_disaster_economic_loss_modified]\r\n",
                "    UNION\r\n",
                "    SELECT DISTINCT ID FROM [Gross_Domestic_Product]\r\n",
                ") AS ids\r\n",
                "LEFT JOIN [Catastrophes new] c ON ids.ID = c.ID\r\n",
                "LEFT JOIN [Direct_disaster_economic_loss_modified] d ON ids.ID = d.ID\r\n",
                "LEFT JOIN [Gross_Domestic_Product] g ON ids.ID = g.ID;"
            ],
            "metadata": {
                "azdata_cell_guid": "e454fa56-a8b7-431d-832f-7b2f7ec69423",
                "language": "sql"
            },
            "outputs": [
                {
                    "output_type": "display_data",
                    "data": {
                        "text/html": "(30930 rows affected)"
                    },
                    "metadata": {}
                },
                {
                    "output_type": "display_data",
                    "data": {
                        "text/html": "Total execution time: 00:00:03.882"
                    },
                    "metadata": {}
                }
            ],
            "execution_count": 48
        },
        {
            "cell_type": "code",
            "source": [
                "--Smazání duplicitních řádků ID                                                                                               CREATE\r\n",
                "WITH RankedCountryDate AS (\r\n",
                "    SELECT\r\n",
                "        ID,\r\n",
                "        ISO,\r\n",
                "        Country,\r\n",
                "        Year,\r\n",
                "        ROW_NUMBER() OVER (PARTITION BY ID ORDER BY ID) AS RowNum\r\n",
                "    FROM Country_Date\r\n",
                ")\r\n",
                "\r\n",
                "DELETE FROM RankedCountryDate WHERE RowNum > 1;"
            ],
            "metadata": {
                "language": "sql",
                "azdata_cell_guid": "ffad6484-54cb-4fbf-818c-806cd4eafc65",
                "tags": []
            },
            "outputs": [
                {
                    "output_type": "display_data",
                    "data": {
                        "text/html": "(19061 rows affected)"
                    },
                    "metadata": {}
                },
                {
                    "output_type": "display_data",
                    "data": {
                        "text/html": "Total execution time: 00:00:02.612"
                    },
                    "metadata": {}
                }
            ],
            "execution_count": 51
        }
    ]
}